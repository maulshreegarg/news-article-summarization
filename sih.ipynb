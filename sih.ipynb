{
  "nbformat": 4,
  "nbformat_minor": 0,
  "metadata": {
    "colab": {
      "provenance": [],
      "authorship_tag": "ABX9TyMLdLSuVvB5fz8JNC+enOyq",
      "include_colab_link": true
    },
    "kernelspec": {
      "name": "python3",
      "display_name": "Python 3"
    },
    "language_info": {
      "name": "python"
    }
  },
  "cells": [
    {
      "cell_type": "markdown",
      "metadata": {
        "id": "view-in-github",
        "colab_type": "text"
      },
      "source": [
        "<a href=\"https://colab.research.google.com/github/maulshreegarg/news-article-summarization/blob/main/sih.ipynb\" target=\"_parent\"><img src=\"https://colab.research.google.com/assets/colab-badge.svg\" alt=\"Open In Colab\"/></a>"
      ]
    },
    {
      "cell_type": "code",
      "source": [
        "!pip install newspaper3k"
      ],
      "metadata": {
        "id": "oyWL9B74t2Xb"
      },
      "execution_count": null,
      "outputs": []
    },
    {
      "cell_type": "code",
      "source": [
        "import tkinter as tk\n",
        "import nltk\n",
        "from textblob import TextBlob\n",
        "from newspaper import Article"
      ],
      "metadata": {
        "id": "R4tFTaoduRQc"
      },
      "execution_count": null,
      "outputs": []
    },
    {
      "cell_type": "code",
      "source": [
        "url=\"https://www.thehindu.com/incoming/blood-donation-camp-organised/article67345971.ece\""
      ],
      "metadata": {
        "id": "doIX5FpYsnze"
      },
      "execution_count": null,
      "outputs": []
    },
    {
      "cell_type": "code",
      "source": [
        "a=Article(url)\n",
        "a.download()"
      ],
      "metadata": {
        "id": "eq3mLNOgvBwY"
      },
      "execution_count": null,
      "outputs": []
    },
    {
      "cell_type": "code",
      "source": [
        "a.parse()"
      ],
      "metadata": {
        "id": "jNt-QT13vNMe"
      },
      "execution_count": null,
      "outputs": []
    },
    {
      "cell_type": "code",
      "source": [],
      "metadata": {
        "id": "mknuA8LOIBkB"
      },
      "execution_count": null,
      "outputs": []
    },
    {
      "cell_type": "code",
      "source": [
        "nltk.download(\"punkt\")"
      ],
      "metadata": {
        "colab": {
          "base_uri": "https://localhost:8080/"
        },
        "id": "ITXDRL2YwTFt",
        "outputId": "17fe0ca8-1de1-4e8c-92b7-f71cb48cfe22"
      },
      "execution_count": null,
      "outputs": [
        {
          "output_type": "stream",
          "name": "stderr",
          "text": [
            "[nltk_data] Downloading package punkt to /root/nltk_data...\n",
            "[nltk_data]   Package punkt is already up-to-date!\n"
          ]
        },
        {
          "output_type": "execute_result",
          "data": {
            "text/plain": [
              "True"
            ]
          },
          "metadata": {},
          "execution_count": 15
        }
      ]
    },
    {
      "cell_type": "markdown",
      "source": [],
      "metadata": {
        "id": "OlccZOhqwR68"
      }
    },
    {
      "cell_type": "code",
      "source": [
        "a.nlp()\n",
        "print(f'Title:{a.title}')\n",
        "print(f'Author:{a.authors}')\n",
        "print(f'pub :{a.publish_date}')\n",
        "print(f'summary :{a.summary}')"
      ],
      "metadata": {
        "colab": {
          "base_uri": "https://localhost:8080/"
        },
        "id": "3RGdXY3kwdq8",
        "outputId": "36fff8ff-f1ee-41d6-ab28-ba7ee70ba670"
      },
      "execution_count": null,
      "outputs": [
        {
          "output_type": "stream",
          "name": "stdout",
          "text": [
            "Title:Each unit of blood can save at least three lives: Red Cross Society chairman\n",
            "Author:['Authors']\n",
            "pub :2023-09-25 16:17:22+00:00\n",
            "summary :September 25, 2023 09:47 pm | Updated September 26, 2023 07:33 am IST - HYDERABADA blood donation camp was organised at the Sultan ul Uloom College of Pharmacy on the occasion of WorldPharmacists Day.\n",
            "Governor Tamilisai Soundararajan inaugurated the camp and in her address she mentioned that at a time when even blood relatives are hesitant to donate blood to their kin, many youngsters are coming forward to donate blood.\n",
            "She encouraged the students to focus on making affordable and effective drugs, referring to aspiring pharmacists as those who “give life to the medicines.” She also urged the use of generic medicines as a means to save both lives and money, particularly for the public, including senior citizens and pensioners.\n",
            "The camp was organised in collaboration with the Telangana chapter of Indian Red Cross Society.\n",
            "Chairman of the society Ajay Misra spoke about the potential of each blood unit to save at least three lives and highlighted the annual deaths in India due to blood shortage.\n"
          ]
        }
      ]
    }
  ]
}